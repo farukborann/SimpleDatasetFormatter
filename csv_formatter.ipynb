{
 "cells": [
  {
   "cell_type": "markdown",
   "id": "0612f57a-aa02-45d2-b829-2fd0a8298c98",
   "metadata": {
    "id": "0612f57a-aa02-45d2-b829-2fd0a8298c98"
   },
   "source": [
    "Yapılması Gerekenler"
   ]
  },
  {
   "cell_type": "markdown",
   "id": "3ccf2c26-cd81-4c2c-928b-ce5b618074ec",
   "metadata": {
    "id": "3ccf2c26-cd81-4c2c-928b-ce5b618074ec"
   },
   "source": [
    "-tüm veri setleri \"_id\" sütunu eklenerek 1den başlamak üzere tüm satırlar indexlenmelidir.  \n",
    "\n",
    "-sütunlar isimler(df.columns) \"CamelCase\" ya da \"snake_case\" olarak standartlaştırılmalıdır. \n",
    "\n",
    "-zaman bilgisi içeren sütunlar gerekirse bir araya getirilerek ISO8601 date formata uygun hale getirilmelidir. Bunun için python datetime kütüphanesinin isodate fonksiyonu kullanılabilir. \n",
    "\n",
    "-numeric girdiler ondalık, binlik ve milyonluk basamaklara doğru işaretlerle ayrılmalıdır. (1.000.200,75) ya da (1 000 200,75) ya da (1 000.200,75)\n",
    "\n",
    "-tüm veri setleri csv formatında çıktı alınmalıdır. "
   ]
  },
  {
   "cell_type": "markdown",
   "id": "vrON2r6s498a",
   "metadata": {
    "id": "vrON2r6s498a"
   },
   "source": [
    "aktýfle*þ*žtýrýlmý*þ*ž = aktifleştirilmiş"
   ]
  },
  {
   "cell_type": "code",
   "execution_count": 1,
   "id": "8b2f5437-efdc-4244-9290-9da6309285a8",
   "metadata": {
    "id": "8b2f5437-efdc-4244-9290-9da6309285a8"
   },
   "outputs": [],
   "source": [
    "import pandas as pd\n",
    "import os\n",
    "import csv\n",
    "import cchardet\n",
    "import unicodedata\n",
    "import datetime\n",
    "from datetime import datetime"
   ]
  },
  {
   "cell_type": "markdown",
   "id": "351bbdd3",
   "metadata": {},
   "source": [
    "# Çıktı Verme Fonsiyonları"
   ]
  },
  {
   "cell_type": "code",
   "execution_count": 2,
   "id": "68f9ea66",
   "metadata": {},
   "outputs": [],
   "source": [
    "def sep_to_str(sep): # Seperatorleri loglamak için bir fonksiyon (Tab hatasını düzeltmek için yazıldı)\n",
    "    if(sep == \"\t\"):\n",
    "        return \"Tab\"\n",
    "    elif (len(sep) == 1):\n",
    "        return \" \" + sep\n",
    "    return sep"
   ]
  },
  {
   "cell_type": "markdown",
   "id": "474b9267",
   "metadata": {},
   "source": [
    "# Dosya ön işlemleri"
   ]
  },
  {
   "cell_type": "code",
   "execution_count": 5,
   "id": "af3d68ef",
   "metadata": {},
   "outputs": [],
   "source": [
    "def get_encoding(filepath): #Dosyanın hangi codecle oluşturulduğunu cchardet kütüphanesi ile beliriyorum\n",
    "    with open(filepath, \"rb\") as rawData:\n",
    "        return cchardet.detect(rawData.read())[\"encoding\"]\n"
   ]
  },
  {
   "cell_type": "code",
   "execution_count": 6,
   "id": "b4fa3519",
   "metadata": {},
   "outputs": [],
   "source": [
    "def get_seperator(filepath, enc): # csv dosyaları için sniffer kullanarak seperator tespit ediyorum.\n",
    "    sniffer = csv.Sniffer()\n",
    "    with open(filepath, \"r\", encoding=enc) as data:\n",
    "        return sniffer.sniff(data.read()).delimiter"
   ]
  },
  {
   "cell_type": "markdown",
   "id": "ddba67d1",
   "metadata": {},
   "source": [
    "# Veri kontrol işlemleri"
   ]
  },
  {
   "cell_type": "code",
   "execution_count": 7,
   "id": "d4c26a51",
   "metadata": {},
   "outputs": [],
   "source": [
    "def add_id_column(dataframe, add_if_exist=False): # İd kolonu ekleme fonsiyonu. add_if_exist => id kolonu varsada eklensin mi ?\n",
    "    if(add_if_exist): # eğer id kolonu varsada eklensin => başka hiçbir koşula bakılmaksızın.\n",
    "        dataframe.insert(0, '_id', range(1, len(dataframe) + 1))\n",
    "    else:\n",
    "        column = dataframe[dataframe.columns[0]]\n",
    "        proba_col_0,proba_col_1 = list(range(len(column))), list(range(1, len(column)+1)) # olabilecek id kolonları => 0 - uzunluk veya 1 - uzunluk +1\n",
    "        col_values = list(column)\n",
    "\n",
    "        if(col_values != proba_col_0 and col_values != proba_col_1): # eğer id kolonu varsa eklenmesin => id kolonu varmı bak.\n",
    "            dataframe.insert(0, '_id', range(1, len(dataframe)+ 1))\n",
    "        else:\n",
    "            dataframe.rename(columns={str(column):\"_id\"})# try except at"
   ]
  },
  {
   "cell_type": "code",
   "execution_count": 8,
   "id": "a82370d3",
   "metadata": {},
   "outputs": [],
   "source": [
    "def replace(text):\n",
    "    normalized = unicodedata.normalize('NFD', text)\n",
    "    return u\"\".join([c for c in normalized if not unicodedata.combining(c)]).replace(\"\", \"\")\n",
    "\n",
    "\n",
    "def convert_columns_to_snake(dataframe):\n",
    "    new_columns = []\n",
    "    for column in dataframe.columns:\n",
    "        new_columns.append(replace(str(column).lower().strip().replace(\" \", \"_\")))\n",
    "    dataframe.columns = new_columns"
   ]
  },
  {
   "cell_type": "code",
   "execution_count": 9,
   "id": "49bf0f11",
   "metadata": {},
   "outputs": [],
   "source": [
    "def is_include_header(dataframe, override = False):\n",
    "    count = ''.join(list(dataframe.columns)).lower().count(\"unnamed\")\n",
    "    if  len(dataframe.columns)/2 < count:\n",
    "        if (override):\n",
    "            dataframe.rename(columns=dataframe.iloc[0], inplace=True)\n",
    "            dataframe.drop(0, inplace=True)\n",
    "        return True\n",
    "    return False"
   ]
  },
  {
   "cell_type": "code",
   "execution_count": 10,
   "id": "fc304942",
   "metadata": {},
   "outputs": [],
   "source": [
    "def is_include_datetime(dataframe, override = False):\n",
    "    is_overrided = False\n",
    "    resultStr = \"\"\n",
    "    for col in dataframe.columns:\n",
    "        success_converted_rows_count = 0\n",
    "        if dataframe[col].dtype == 'object':\n",
    "            for data in dataframe[col]:\n",
    "                try:\n",
    "                    pd.to_datetime(data)\n",
    "                    success_converted_rows_count += 1\n",
    "                except ValueError:\n",
    "                    pass\n",
    "            resultStr += str(col) + \"->\" + str(success_converted_rows_count) + \" || \"\n",
    "            try:\n",
    "                if (override):\n",
    "                    dataframe[col] = pd.to_datetime(dataframe[col])\n",
    "            except ValueError:\n",
    "                pass\n",
    "    return resultStr"
   ]
  },
  {
   "cell_type": "code",
   "execution_count": 11,
   "id": "e4aad348",
   "metadata": {},
   "outputs": [],
   "source": [
    "def is_include_numeric(dataframe, override = False):\n",
    "    is_overrided = False\n",
    "    for col in dataframe.columns:\n",
    "        if dataframe[col].dtype == 'object':\n",
    "            try:\n",
    "                tempCol = pd.to_numeric(str(dataframe[col]).replace(',','.'))\n",
    "                if (override):\n",
    "                    dataframe[col] = tempCol\n",
    "                is_overrided = True\n",
    "            except ValueError:\n",
    "                pass\n",
    "    return is_overrided"
   ]
  },
  {
   "cell_type": "markdown",
   "id": "acc63abe",
   "metadata": {},
   "source": [
    "# Genel Fonksiyonlar"
   ]
  },
  {
   "cell_type": "code",
   "execution_count": 12,
   "id": "5a2d5284",
   "metadata": {},
   "outputs": [],
   "source": [
    "def get_general_info(file, override, get_output=False):\n",
    "    filepath = \"./content/\" + file\n",
    "    enc = get_encoding(filepath)\n",
    "    sep = get_seperator(filepath, enc)\n",
    "    dataframe = pd.read_csv(filepath, encoding=enc, sep=sep)\n",
    "\n",
    "    include_header = is_include_header(dataframe, override)\n",
    "    include_datetime = is_include_datetime(dataframe, override)\n",
    "    include_numeric = is_include_numeric(dataframe, override)\n",
    "    convert_columns_to_snake(dataframe)\n",
    "    add_id_column(dataframe)\n",
    "\n",
    "    if(get_output):\n",
    "        try:\n",
    "            dataframe.to_csv(\"./_output/\" + file, index=False) #, sep=\";\"\n",
    "        except FileNotFoundError:\n",
    "            os.system(\"mkdir _output\")\n",
    "            dataframe.to_csv(\"./_output/\" + file, index=False) #, sep=\";\"\n",
    "    return {\"Name\":file, \"Number of Rows\" : len(dataframe), \"is_na\": dataframe.isna().sum().sum() , \"Encoding\":enc, \"Sep\":sep_to_str(sep), \"Header?\":include_header, \"Datetime?\":include_datetime, \"Numeric?\":include_numeric, \"Columns\":dict(dataframe.dtypes)}"
   ]
  },
  {
   "cell_type": "code",
   "execution_count": 13,
   "id": "4ba434c7",
   "metadata": {},
   "outputs": [
    {
     "data": {
      "text/html": [
       "<div>\n",
       "<style scoped>\n",
       "    .dataframe tbody tr th:only-of-type {\n",
       "        vertical-align: middle;\n",
       "    }\n",
       "\n",
       "    .dataframe tbody tr th {\n",
       "        vertical-align: top;\n",
       "    }\n",
       "\n",
       "    .dataframe thead th {\n",
       "        text-align: right;\n",
       "    }\n",
       "</style>\n",
       "<table border=\"1\" class=\"dataframe\">\n",
       "  <thead>\n",
       "    <tr style=\"text-align: right;\">\n",
       "      <th></th>\n",
       "      <th>Name</th>\n",
       "      <th>Number of Rows</th>\n",
       "      <th>is_na</th>\n",
       "      <th>Encoding</th>\n",
       "      <th>Sep</th>\n",
       "      <th>Header?</th>\n",
       "      <th>Datetime?</th>\n",
       "      <th>Numeric?</th>\n",
       "      <th>Columns</th>\n",
       "    </tr>\n",
       "  </thead>\n",
       "  <tbody>\n",
       "    <tr>\n",
       "      <th>0</th>\n",
       "      <td>138_202203_sehirtiyatroları2019.csv</td>\n",
       "      <td>116</td>\n",
       "      <td>0</td>\n",
       "      <td>ISO-8859-9</td>\n",
       "      <td>;</td>\n",
       "      <td>False</td>\n",
       "      <td>TARİH-&gt;116 || GÜN-&gt;0 || SAAT-&gt;0 || OYUN-&gt;0 || ...</td>\n",
       "      <td>False</td>\n",
       "      <td>{'_id': int64, 'tarih': datetime64[ns], 'gun':...</td>\n",
       "    </tr>\n",
       "    <tr>\n",
       "      <th>1</th>\n",
       "      <td>144_202203_abonesayisi.csv</td>\n",
       "      <td>73</td>\n",
       "      <td>146</td>\n",
       "      <td>ISO-8859-9</td>\n",
       "      <td>;</td>\n",
       "      <td>True</td>\n",
       "      <td>Tarih-&gt;73 || Değer-&gt;0 || Birim-&gt;0 ||</td>\n",
       "      <td>False</td>\n",
       "      <td>{'_id': int64, 'tarih': datetime64[ns], 'deger...</td>\n",
       "    </tr>\n",
       "    <tr>\n",
       "      <th>2</th>\n",
       "      <td>145_202204_tuketilensumiktari (1).csv</td>\n",
       "      <td>73</td>\n",
       "      <td>0</td>\n",
       "      <td>ISO-8859-9</td>\n",
       "      <td>;</td>\n",
       "      <td>True</td>\n",
       "      <td>Tarih-&gt;73 || Değer -&gt;0 || Birim-&gt;0 ||</td>\n",
       "      <td>False</td>\n",
       "      <td>{'_id': int64, 'tarih': datetime64[ns], 'deger...</td>\n",
       "    </tr>\n",
       "    <tr>\n",
       "      <th>3</th>\n",
       "      <td>146_202203_atiksuaritma.csv</td>\n",
       "      <td>41</td>\n",
       "      <td>0</td>\n",
       "      <td>ISO-8859-9</td>\n",
       "      <td>;</td>\n",
       "      <td>True</td>\n",
       "      <td>Tarih-&gt;41 || Değer-&gt;0 || Birim-&gt;0 ||</td>\n",
       "      <td>False</td>\n",
       "      <td>{'_id': int64, 'tarih': datetime64[ns], 'deger...</td>\n",
       "    </tr>\n",
       "    <tr>\n",
       "      <th>4</th>\n",
       "      <td>148_202203_ciftciegitimenvanteri.csv</td>\n",
       "      <td>32</td>\n",
       "      <td>18</td>\n",
       "      <td>ISO-8859-9</td>\n",
       "      <td>;</td>\n",
       "      <td>False</td>\n",
       "      <td>İLÇESİ-&gt;1 ||</td>\n",
       "      <td>False</td>\n",
       "      <td>{'_id': int64, 's.no': float64, 'ilcesi': obje...</td>\n",
       "    </tr>\n",
       "    <tr>\n",
       "      <th>5</th>\n",
       "      <td>149_202203_devreyegirengeslistesi.csv</td>\n",
       "      <td>809</td>\n",
       "      <td>0</td>\n",
       "      <td>ISO-8859-9</td>\n",
       "      <td>;</td>\n",
       "      <td>False</td>\n",
       "      <td>İl-&gt;0 || İlçe-&gt;0 || Mahalle/Köy-&gt;0 || Kaynak T...</td>\n",
       "      <td>False</td>\n",
       "      <td>{'_id': int64, 'il': object, 'ilce': object, '...</td>\n",
       "    </tr>\n",
       "    <tr>\n",
       "      <th>6</th>\n",
       "      <td>150_202203_internetkullanim.csv</td>\n",
       "      <td>14</td>\n",
       "      <td>28</td>\n",
       "      <td>ISO-8859-13</td>\n",
       "      <td>;</td>\n",
       "      <td>False</td>\n",
       "      <td>Tarih-&gt;0 ||</td>\n",
       "      <td>False</td>\n",
       "      <td>{'_id': int64, 'tarih': object, 'android': int...</td>\n",
       "    </tr>\n",
       "    <tr>\n",
       "      <th>7</th>\n",
       "      <td>151_202203_bisikletamirbakımistasyonukoordinat...</td>\n",
       "      <td>27</td>\n",
       "      <td>36</td>\n",
       "      <td>ISO-8859-9</td>\n",
       "      <td>;</td>\n",
       "      <td>False</td>\n",
       "      <td>Name-&gt;3 ||</td>\n",
       "      <td>False</td>\n",
       "      <td>{'_id': int64, 'name': object, 'enlem': float6...</td>\n",
       "    </tr>\n",
       "    <tr>\n",
       "      <th>8</th>\n",
       "      <td>152_202203_paylaşımlıbisikletistasyonlarıkonum...</td>\n",
       "      <td>40</td>\n",
       "      <td>0</td>\n",
       "      <td>ISO-8859-9</td>\n",
       "      <td>;</td>\n",
       "      <td>False</td>\n",
       "      <td>Name-&gt;0 || Bölge-&gt;0 ||</td>\n",
       "      <td>False</td>\n",
       "      <td>{'id': int64, 'x': float64, 'y': float64, 'nam...</td>\n",
       "    </tr>\n",
       "  </tbody>\n",
       "</table>\n",
       "</div>"
      ],
      "text/plain": [
       "                                                Name Number of Rows is_na  \\\n",
       "0                138_202203_sehirtiyatroları2019.csv            116     0   \n",
       "1                         144_202203_abonesayisi.csv             73   146   \n",
       "2              145_202204_tuketilensumiktari (1).csv             73     0   \n",
       "3                        146_202203_atiksuaritma.csv             41     0   \n",
       "4               148_202203_ciftciegitimenvanteri.csv             32    18   \n",
       "5              149_202203_devreyegirengeslistesi.csv            809     0   \n",
       "6                    150_202203_internetkullanim.csv             14    28   \n",
       "7  151_202203_bisikletamirbakımistasyonukoordinat...             27    36   \n",
       "8  152_202203_paylaşımlıbisikletistasyonlarıkonum...             40     0   \n",
       "\n",
       "      Encoding Sep Header?                                          Datetime?  \\\n",
       "0   ISO-8859-9   ;   False  TARİH->116 || GÜN->0 || SAAT->0 || OYUN->0 || ...   \n",
       "1   ISO-8859-9   ;    True              Tarih->73 || Değer->0 || Birim->0 ||    \n",
       "2   ISO-8859-9   ;    True             Tarih->73 || Değer ->0 || Birim->0 ||    \n",
       "3   ISO-8859-9   ;    True              Tarih->41 || Değer->0 || Birim->0 ||    \n",
       "4   ISO-8859-9   ;   False                                      İLÇESİ->1 ||    \n",
       "5   ISO-8859-9   ;   False  İl->0 || İlçe->0 || Mahalle/Köy->0 || Kaynak T...   \n",
       "6  ISO-8859-13   ;   False                                       Tarih->0 ||    \n",
       "7   ISO-8859-9   ;   False                                        Name->3 ||    \n",
       "8   ISO-8859-9   ;   False                            Name->0 || Bölge->0 ||    \n",
       "\n",
       "  Numeric?                                            Columns  \n",
       "0    False  {'_id': int64, 'tarih': datetime64[ns], 'gun':...  \n",
       "1    False  {'_id': int64, 'tarih': datetime64[ns], 'deger...  \n",
       "2    False  {'_id': int64, 'tarih': datetime64[ns], 'deger...  \n",
       "3    False  {'_id': int64, 'tarih': datetime64[ns], 'deger...  \n",
       "4    False  {'_id': int64, 's.no': float64, 'ilcesi': obje...  \n",
       "5    False  {'_id': int64, 'il': object, 'ilce': object, '...  \n",
       "6    False  {'_id': int64, 'tarih': object, 'android': int...  \n",
       "7    False  {'_id': int64, 'name': object, 'enlem': float6...  \n",
       "8    False  {'id': int64, 'x': float64, 'y': float64, 'nam...  "
      ]
     },
     "execution_count": 13,
     "metadata": {},
     "output_type": "execute_result"
    }
   ],
   "source": [
    "files = os.listdir(\"./content/\")\n",
    "\n",
    "result_dataframe = pd.DataFrame(columns=[\"Name\", \"Number of Rows\", \"is_na\", \"Encoding\", \"Sep\", \"Header?\", \"Datetime?\", \"Numeric?\", \"Columns\"])\n",
    "\n",
    "for file in files:\n",
    "    if(file.endswith(\".csv\")):\n",
    "        result_dataframe.loc[result_dataframe.shape[0]] = get_general_info(file, True, True)\n",
    "\n",
    "result_dataframe"
   ]
  },
  {
   "cell_type": "code",
   "execution_count": 14,
   "id": "a4de5c89",
   "metadata": {},
   "outputs": [],
   "source": [
    "result_dataframe.to_csv('result.csv') #, sep=\";\""
   ]
  },
  {
   "cell_type": "code",
   "execution_count": 15,
   "id": "e9beb0d4-02d2-4cc5-8832-ad44a55cf9c7",
   "metadata": {},
   "outputs": [],
   "source": [
    "files = os.listdir(\"./_output/\")\n",
    "for file in files:\n",
    "    if(file.endswith(\".csv\")):\n",
    "        dataframe = pd.read_csv(\"./_output/\" + file)\n",
    "        try:\n",
    "            dataframe.to_csv(\"./_acikverikapsul/\" + file[:-4] + \"(k)\" + \".csv\", index=False) #, sep=\";\"\n",
    "        except FileNotFoundError:\n",
    "            os.system(\"mkdir _acikverikapsul\")\n",
    "            dataframe.to_csv(\"./_acikverikapsul/\" + file[:-4] + \"(k)\" + \".csv\", index=False) #, sep=\";\""
   ]
  }
 ],
 "metadata": {
  "colab": {
   "collapsed_sections": [],
   "name": "temelscriptler.ipynb",
   "provenance": []
  },
  "kernelspec": {
   "display_name": "Python 3 (ipykernel)",
   "language": "python",
   "name": "python3"
  },
  "language_info": {
   "codemirror_mode": {
    "name": "ipython",
    "version": 3
   },
   "file_extension": ".py",
   "mimetype": "text/x-python",
   "name": "python",
   "nbconvert_exporter": "python",
   "pygments_lexer": "ipython3",
   "version": "3.9.7"
  },
  "toc-autonumbering": true,
  "toc-showcode": false,
  "toc-showmarkdowntxt": false,
  "toc-showtags": false,
  "vscode": {
   "interpreter": {
    "hash": "d6a856eb2edc514f20418dec16857c4860fbafa3af0c9a4f9912f3c67bb3efe7"
   }
  }
 },
 "nbformat": 4,
 "nbformat_minor": 5
}
